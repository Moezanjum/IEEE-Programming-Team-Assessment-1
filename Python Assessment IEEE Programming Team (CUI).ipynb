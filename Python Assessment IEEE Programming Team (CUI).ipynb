{
 "cells": [
  {
   "cell_type": "code",
   "execution_count": 19,
   "metadata": {},
   "outputs": [],
   "source": [
    "#Ignore this block, it just contains the pre-requisite variables to be used in this program\n",
    "#Do run this cell before staring your code.\n",
    "\n",
    "import pandas as pd\n",
    "\n",
    "df = pd.read_csv('cars.csv').sort_values(\"Make\")\n",
    "make = list(df['Make'])\n",
    "model = list(df['Model'])\n",
    "size = list(df['Size'])\n",
    "\n",
    "make.insert(0,'Make')\n",
    "model.insert(0,'Model')\n",
    "size.insert(0,'Size')"
   ]
  },
  {
   "cell_type": "markdown",
   "metadata": {},
   "source": [
    "**Question 1:**\n",
    "\n",
    "Write a program that zips three lists and print it through a loop. Use the lists provided above namely make, model and size. Do run the cell above before starting your program."
   ]
  },
  {
   "cell_type": "code",
   "execution_count": 3,
   "metadata": {},
   "outputs": [],
   "source": [
    "#Your Program Here\n"
   ]
  },
  {
   "cell_type": "markdown",
   "metadata": {},
   "source": [
    "**Question 2:**\n",
    "\n",
    "Now use first list (make) as key in a dictionary and zipped values of other 2 as values."
   ]
  },
  {
   "cell_type": "code",
   "execution_count": 2,
   "metadata": {},
   "outputs": [],
   "source": [
    "#Your code here\n"
   ]
  },
  {
   "cell_type": "markdown",
   "metadata": {},
   "source": [
    "**Question 3:**\n",
    "\n",
    "Now print the contents of the created dictionary in a presentable form through the use of spaces.\n",
    "\n",
    "e.g:<br>\n",
    "Make &nbsp; &nbsp; &nbsp; &nbsp;  ('Model', 'Size')<br>\n",
    "BMW &nbsp; &nbsp; &nbsp; &nbsp; ('i3', 'SUBCOMPACT')"
   ]
  },
  {
   "cell_type": "code",
   "execution_count": 1,
   "metadata": {},
   "outputs": [],
   "source": [
    "#Your code here\n"
   ]
  }
 ],
 "metadata": {
  "kernelspec": {
   "display_name": "Python 3",
   "language": "python",
   "name": "python3"
  },
  "language_info": {
   "codemirror_mode": {
    "name": "ipython",
    "version": 3
   },
   "file_extension": ".py",
   "mimetype": "text/x-python",
   "name": "python",
   "nbconvert_exporter": "python",
   "pygments_lexer": "ipython3",
   "version": "3.7.6"
  }
 },
 "nbformat": 4,
 "nbformat_minor": 4
}
